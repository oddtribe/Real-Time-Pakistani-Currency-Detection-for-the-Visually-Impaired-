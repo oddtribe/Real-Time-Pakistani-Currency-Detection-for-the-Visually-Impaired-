{
 "cells": [
  {
   "cell_type": "code",
   "execution_count": null,
   "metadata": {},
   "outputs": [],
   "source": [
    "from tensorflow.keras.models import load_model"
   ]
  },
  {
   "cell_type": "code",
   "execution_count": null,
   "metadata": {
    "jupyter": {
     "outputs_hidden": true
    },
    "tags": []
   },
   "outputs": [],
   "source": [
    "model = load_model('fourth-data-augmented-background-model.hd5')\n",
    "model.summary()"
   ]
  },
  {
   "cell_type": "code",
   "execution_count": null,
   "metadata": {},
   "outputs": [],
   "source": [
    "from cv2 import VideoCapture, destroyAllWindows, waitKey, flip, CAP_PROP_FRAME_WIDTH, CAP_PROP_FRAME_HEIGHT, imread, resize, INTER_CUBIC ,imshow, putText, FONT_HERSHEY_SIMPLEX, cvtColor, COLOR_BGR2RGB\n",
    "import numpy as np\n",
    "\n",
    "cap = VideoCapture(0) \n",
    "classes = { '1000_back': 0,\n",
    "             '1000_front': 1,\n",
    "             '100_back': 2,\n",
    "             '100_front': 3,\n",
    "             '10_back': 4,\n",
    "             '10_front': 5,\n",
    "             '20_back': 6,\n",
    "             '20_front': 7,\n",
    "             '5000_back': 8,\n",
    "             '5000_front': 9,\n",
    "             '500_back': 10,\n",
    "             '500_front': 11,\n",
    "             '50_back': 12,\n",
    "             '50_front': 13,\n",
    "             'background': 14 }\n",
    "classes = {ind:currency_side for currency_side,ind in classes.items()}\n",
    "\n",
    "try:\n",
    "    while (True):\n",
    "    #     cap.set(CAP_PROP_FRAME_WIDTH, 224)\n",
    "    #     cap.set(CAP_PROP_FRAME_HEIGHT, 224)\n",
    "        ret ,frame = cap.read() \n",
    "\n",
    "        if not ret:\n",
    "            break\n",
    "\n",
    "        # Not required but looks nice      \n",
    "        frame = flip( frame, 1 )     \n",
    "        img = cvtColor(frame, COLOR_BGR2RGB)   # Opencv rads frame in BGR mode default, but model is trained on RGB images so need to convert\n",
    "        img = resize(img, dsize=(224,224), interpolation=INTER_CUBIC)  # Model takes an image with input size 224x224 so need to resize\n",
    "\n",
    "        # img is opencv mat data struct but model cannot understand this data struct so need to convert to numpy array\n",
    "        np_image = np.asarray(img)\n",
    "\n",
    "        # To fulfill Model required shape for the image/images to predict \n",
    "        np_final = np.expand_dims(np_image, axis=0)\n",
    "\n",
    "        # Getting the probabilities\n",
    "        probs = model.predict(np_final)\n",
    "\n",
    "        # Getting the class name \n",
    "        class_ind = np.argmax(probs, axis=1)  # Getting the class index where probability was max\n",
    "        class_pred = classes[class_ind[0]]   # Getting the class name utilizing the index\n",
    "\n",
    "        # Displaying class name as text in opencv window\n",
    "        text = \"{}\".format(class_pred)\n",
    "        putText(frame, text, (100, 100 - 5), FONT_HERSHEY_SIMPLEX, 2, (0,0,0), 4)\n",
    "\n",
    "        # Displaying the frame along with text\n",
    "        imshow(\"img\",frame)       \n",
    "        k = waitKey(1)  & 0xFF\n",
    "\n",
    "        # If q key is pressed \n",
    "        if k == ord('q'):  \n",
    "            break\n",
    "\n",
    "    cap.release()\n",
    "    destroyAllWindows()   \n",
    "\n",
    "except Exception:\n",
    "    cap.release()\n",
    "    destroyAllWindows()   "
   ]
  },
  {
   "cell_type": "code",
   "execution_count": null,
   "metadata": {},
   "outputs": [],
   "source": [
    "np.set_printoptions(suppress=True)\n",
    "probs"
   ]
  },
  {
   "cell_type": "code",
   "execution_count": 7,
   "metadata": {},
   "outputs": [
    {
     "data": {
      "text/plain": [
       "(1, 224, 224, 3)"
      ]
     },
     "execution_count": 7,
     "metadata": {},
     "output_type": "execute_result"
    }
   ],
   "source": []
  },
  {
   "cell_type": "code",
   "execution_count": null,
   "metadata": {},
   "outputs": [],
   "source": []
  }
 ],
 "metadata": {
  "kernelspec": {
   "display_name": "Python 3",
   "language": "python",
   "name": "python3"
  },
  "language_info": {
   "codemirror_mode": {
    "name": "ipython",
    "version": 3
   },
   "file_extension": ".py",
   "mimetype": "text/x-python",
   "name": "python",
   "nbconvert_exporter": "python",
   "pygments_lexer": "ipython3",
   "version": "3.8.10"
  }
 },
 "nbformat": 4,
 "nbformat_minor": 4
}
